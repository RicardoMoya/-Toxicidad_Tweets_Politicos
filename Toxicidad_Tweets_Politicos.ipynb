{
 "cells": [
  {
   "cell_type": "markdown",
   "id": "b094302e",
   "metadata": {},
   "source": [
    "# Niveles de Toxicidad en los Tweets de los políticos Españoles\n",
    "\n",
    "\n",
    "* En este notebook se va a analizar el nivel de toxicidad de los tweets que escriben los políticos españoles.\n",
    "\n",
    "\n",
    "* Los tweets se van a obtener del dataset de Kaggle \"Tweets Política España\": https://www.kaggle.com/datasets/ricardomoya/tweets-poltica-espaa\n",
    "\n",
    "\n",
    "* El modelo de NLP (ya entrenado) que asignará el score de toxicidad a los tweets se va a obtener de: https://huggingface.co/Newtral/xlm-r-finetuned-toxic-political-tweets-es\n",
    "\n",
    "\n",
    "* El modelo ya entrenado, es un modelo compartido en HuggingFace por la empresa Newtral (https://www.newtral.es/)\n",
    "\n",
    "\n",
    "* Los detalles de la implementación del notebook y conclusiones de los resultados obtenidos los podéis consultar en el siguiente post: https://jarroba.com/toxicidad-politica-en-tweets/\n",
    "\n",
    "\n",
    "<hr>\n",
    "\n",
    "# 1.- Instalación de las librerías\n",
    "\n",
    "* Estas librerías las vamos a instalar en un entorno virtual con Python 3.7"
   ]
  },
  {
   "cell_type": "code",
   "execution_count": null,
   "id": "fdef7992",
   "metadata": {},
   "outputs": [],
   "source": [
    "!pip install tweet-preprocessor==0.6.0 --user\n",
    "!pip install transformers==4.17.0 --user\n",
    "!pip install opendatasets==0.1.22 --user\n",
    "!pip install tqdm --user"
   ]
  },
  {
   "cell_type": "markdown",
   "id": "74343388",
   "metadata": {},
   "source": [
    "<hr>\n",
    "\n",
    "\n",
    "# 2.- Lectura de los tweets\n",
    "\n",
    "* Los tweets los vamos a descargar de: https://www.kaggle.com/datasets/ricardomoya/tweets-poltica-espaa\n",
    "\n",
    "\n",
    "* Para ello se necesita el usuario de Kaggle y un API key que se obtiene en la cuenta del usuario. Para más info: https://github.com/JovianML/opendatasets/blob/master/README.md#kaggle-credentials"
   ]
  },
  {
   "cell_type": "code",
   "execution_count": 1,
   "id": "86eb8139",
   "metadata": {},
   "outputs": [
    {
     "name": "stdout",
     "output_type": "stream",
     "text": [
      "Please provide your Kaggle credentials to download this dataset. Learn more: http://bit.ly/kaggle-creds\n",
      "Your Kaggle username: ricardomoya\n",
      "Your Kaggle Key: ········\n",
      "Downloading tweets-poltica-espaa.zip to .\\tweets-poltica-espaa\n"
     ]
    },
    {
     "name": "stderr",
     "output_type": "stream",
     "text": [
      "100%|█████████████████████████████████████████████████████████████████████████████| 17.4M/17.4M [00:01<00:00, 17.8MB/s]\n"
     ]
    },
    {
     "name": "stdout",
     "output_type": "stream",
     "text": [
      "\n",
      "\n",
      "Número de Tweets: 181504\n"
     ]
    },
    {
     "data": {
      "text/html": [
       "<div>\n",
       "<style scoped>\n",
       "    .dataframe tbody tr th:only-of-type {\n",
       "        vertical-align: middle;\n",
       "    }\n",
       "\n",
       "    .dataframe tbody tr th {\n",
       "        vertical-align: top;\n",
       "    }\n",
       "\n",
       "    .dataframe thead th {\n",
       "        text-align: right;\n",
       "    }\n",
       "</style>\n",
       "<table border=\"1\" class=\"dataframe\">\n",
       "  <thead>\n",
       "    <tr style=\"text-align: right;\">\n",
       "      <th></th>\n",
       "      <th>cuenta</th>\n",
       "      <th>partido</th>\n",
       "      <th>timestamp</th>\n",
       "      <th>tweet</th>\n",
       "    </tr>\n",
       "  </thead>\n",
       "  <tbody>\n",
       "    <tr>\n",
       "      <th>6090</th>\n",
       "      <td>8fbbab0ad3015a97ca31cefec4bba92a</td>\n",
       "      <td>podemos</td>\n",
       "      <td>1.560067e+09</td>\n",
       "      <td>Detrás de este tipo de sanciones se esconde el...</td>\n",
       "    </tr>\n",
       "    <tr>\n",
       "      <th>66596</th>\n",
       "      <td>83cf0322f4bf4a9533a01b708f437910</td>\n",
       "      <td>pp</td>\n",
       "      <td>1.585391e+09</td>\n",
       "      <td>@RufoCaricaturas Ohhh!!! Texas!!</td>\n",
       "    </tr>\n",
       "    <tr>\n",
       "      <th>76871</th>\n",
       "      <td>d575d7c6688df8eefc937cdabf7d7eb9</td>\n",
       "      <td>vox</td>\n",
       "      <td>1.611433e+09</td>\n",
       "      <td>📺 Este domingo a las 22:00, nuevo programa de ...</td>\n",
       "    </tr>\n",
       "    <tr>\n",
       "      <th>89622</th>\n",
       "      <td>fdce0be92377e5874e04584c4eac7461</td>\n",
       "      <td>psoe</td>\n",
       "      <td>1.616050e+09</td>\n",
       "      <td>@FuRiA_1983 @DiarioCyLMundo Porque el 51% rest...</td>\n",
       "    </tr>\n",
       "    <tr>\n",
       "      <th>156998</th>\n",
       "      <td>45929e569b528cfdb28bd08df7c5a780</td>\n",
       "      <td>vox</td>\n",
       "      <td>1.642432e+09</td>\n",
       "      <td>@Astigar3 La gallina</td>\n",
       "    </tr>\n",
       "  </tbody>\n",
       "</table>\n",
       "</div>"
      ],
      "text/plain": [
       "                                  cuenta  partido     timestamp  \\\n",
       "6090    8fbbab0ad3015a97ca31cefec4bba92a  podemos  1.560067e+09   \n",
       "66596   83cf0322f4bf4a9533a01b708f437910       pp  1.585391e+09   \n",
       "76871   d575d7c6688df8eefc937cdabf7d7eb9      vox  1.611433e+09   \n",
       "89622   fdce0be92377e5874e04584c4eac7461     psoe  1.616050e+09   \n",
       "156998  45929e569b528cfdb28bd08df7c5a780      vox  1.642432e+09   \n",
       "\n",
       "                                                    tweet  \n",
       "6090    Detrás de este tipo de sanciones se esconde el...  \n",
       "66596                    @RufoCaricaturas Ohhh!!! Texas!!  \n",
       "76871   📺 Este domingo a las 22:00, nuevo programa de ...  \n",
       "89622   @FuRiA_1983 @DiarioCyLMundo Porque el 51% rest...  \n",
       "156998                               @Astigar3 La gallina  "
      ]
     },
     "execution_count": 1,
     "metadata": {},
     "output_type": "execute_result"
    }
   ],
   "source": [
    "import pandas as pd\n",
    "import opendatasets as od\n",
    "\n",
    "# Descagamos el Dataset de Kaggle\n",
    "od.download('https://www.kaggle.com/datasets/ricardomoya/tweets-poltica-espaa', force=True)\n",
    "\n",
    "# Cargamos los tweets en un dataframe\n",
    "df = pd.read_table('./tweets-poltica-espaa/tweets_politica_kaggle.csv',\n",
    "                   sep='\\t', \n",
    "                   header=0, \n",
    "                   engine='python')\n",
    "\n",
    "print('\\nNúmero de Tweets: {}'.format(df.shape[0]))\n",
    "df.sample(5)\n"
   ]
  },
  {
   "cell_type": "markdown",
   "id": "079cd9d9",
   "metadata": {},
   "source": [
    "* Porcentaje de Tweets por Partido Político"
   ]
  },
  {
   "cell_type": "code",
   "execution_count": 2,
   "id": "cf00642f",
   "metadata": {},
   "outputs": [
    {
     "data": {
      "image/png": "[encoded data removed]",
      "text/plain": [
       "<Figure size 864x432 with 1 Axes>"
      ]
     },
     "metadata": {},
     "output_type": "display_data"
    }
   ],
   "source": [
    "import matplotlib.pyplot as plt\n",
    "%matplotlib inline\n",
    "\n",
    "# Conteo de tweets por partido político\n",
    "df_agg = df.groupby('partido')['tweet'].count().reset_index()\n",
    "\n",
    "# Pintamos en una gráfica de sectores los resultados\n",
    "colors={'psoe':'#E74C3C', 'pp':'#3498DB', 'vox':'#58D68D', 'podemos':'#8E44AD', 'ciudadanos':'#E67E22'}\n",
    "plt.figure(figsize=(12, 6))\n",
    "plt.pie(x=df_agg['tweet'].values, \n",
    "        labels=df_agg['partido'].values, \n",
    "        colors=[colors[key] for key in df_agg['partido'].values],\n",
    "        autopct='%1.2f%%')\n",
    "plt.show()"
   ]
  },
  {
   "cell_type": "markdown",
   "id": "a92d97b2",
   "metadata": {},
   "source": [
    "<hr>\n",
    "\n",
    "# 3.- Limpieza de los tweets: Quitamos enlaces, menciones, hastags, emoticonos, etc.\n",
    "\n",
    "\n",
    "* Usaremos la librería \"tweet-preprocesor\" (https://pypi.org/project/tweet-preprocessor/) para realizar una limpieza de los tweets eliminando las URLs, Menciones, Hashtags, Emoticonos, etc.\n",
    "\n",
    "\n",
    "* Con esta limpieza \"ayudaremos\" al modelo en el proceso de predicción del score, eliminando texto que \"seguramente\" no le será relevante para calcular la predicción.\n"
   ]
  },
  {
   "cell_type": "code",
   "execution_count": 3,
   "id": "7eb3550c",
   "metadata": {},
   "outputs": [
    {
     "name": "stderr",
     "output_type": "stream",
     "text": [
      "100%|█████████████████████████████████████████████████████████████████████████| 181504/181504 [20:04<00:00, 150.64it/s]\n"
     ]
    },
    {
     "data": {
      "text/html": [
       "<div>\n",
       "<style scoped>\n",
       "    .dataframe tbody tr th:only-of-type {\n",
       "        vertical-align: middle;\n",
       "    }\n",
       "\n",
       "    .dataframe tbody tr th {\n",
       "        vertical-align: top;\n",
       "    }\n",
       "\n",
       "    .dataframe thead th {\n",
       "        text-align: right;\n",
       "    }\n",
       "</style>\n",
       "<table border=\"1\" class=\"dataframe\">\n",
       "  <thead>\n",
       "    <tr style=\"text-align: right;\">\n",
       "      <th></th>\n",
       "      <th>partido</th>\n",
       "      <th>timestamp</th>\n",
       "      <th>tweet</th>\n",
       "      <th>clean_tweet</th>\n",
       "    </tr>\n",
       "  </thead>\n",
       "  <tbody>\n",
       "    <tr>\n",
       "      <th>12636</th>\n",
       "      <td>psoe</td>\n",
       "      <td>1.563798e+09</td>\n",
       "      <td>@pablocasado_ “La desigualdad la ha generado e...</td>\n",
       "      <td>\"la desigualdad la ha generado el desempleo,o ...</td>\n",
       "    </tr>\n",
       "    <tr>\n",
       "      <th>131858</th>\n",
       "      <td>podemos</td>\n",
       "      <td>1.633785e+09</td>\n",
       "      <td>\"Lo que realmente fastidió del hecho de que me...</td>\n",
       "      <td>\"lo que realmente fastidio del hecho de que me...</td>\n",
       "    </tr>\n",
       "    <tr>\n",
       "      <th>155677</th>\n",
       "      <td>ciudadanos</td>\n",
       "      <td>1.642000e+09</td>\n",
       "      <td>@TweetingEGG13 https://t.co/Yev0UceT9z</td>\n",
       "      <td></td>\n",
       "    </tr>\n",
       "    <tr>\n",
       "      <th>12946</th>\n",
       "      <td>ciudadanos</td>\n",
       "      <td>1.563905e+09</td>\n",
       "      <td>Es el ansia viva. https://t.co/apml4gGoBq</td>\n",
       "      <td>es el ansia viva.</td>\n",
       "    </tr>\n",
       "    <tr>\n",
       "      <th>27279</th>\n",
       "      <td>psoe</td>\n",
       "      <td>1.571799e+09</td>\n",
       "      <td>@Irene_Montero_ Esto no es apoyar la política ...</td>\n",
       "      <td>esto no es apoyar la politica publica de vivie...</td>\n",
       "    </tr>\n",
       "  </tbody>\n",
       "</table>\n",
       "</div>"
      ],
      "text/plain": [
       "           partido     timestamp  \\\n",
       "12636         psoe  1.563798e+09   \n",
       "131858     podemos  1.633785e+09   \n",
       "155677  ciudadanos  1.642000e+09   \n",
       "12946   ciudadanos  1.563905e+09   \n",
       "27279         psoe  1.571799e+09   \n",
       "\n",
       "                                                    tweet  \\\n",
       "12636   @pablocasado_ “La desigualdad la ha generado e...   \n",
       "131858  \"Lo que realmente fastidió del hecho de que me...   \n",
       "155677             @TweetingEGG13 https://t.co/Yev0UceT9z   \n",
       "12946           Es el ansia viva. https://t.co/apml4gGoBq   \n",
       "27279   @Irene_Montero_ Esto no es apoyar la política ...   \n",
       "\n",
       "                                              clean_tweet  \n",
       "12636   \"la desigualdad la ha generado el desempleo,o ...  \n",
       "131858  \"lo que realmente fastidio del hecho de que me...  \n",
       "155677                                                     \n",
       "12946                                   es el ansia viva.  \n",
       "27279   esto no es apoyar la politica publica de vivie...  "
      ]
     },
     "execution_count": 3,
     "metadata": {},
     "output_type": "execute_result"
    }
   ],
   "source": [
    "import preprocessor as p\n",
    "import unidecode\n",
    "from tqdm import tqdm\n",
    "\n",
    "\n",
    "# Configuramos tweet-preprocessor para que nos elimine del tweet: Urls, menciones, emoticonos, etc.\n",
    "p.set_options(p.OPT.URL, p.OPT.MENTION, p.OPT.HASHTAG, p.OPT.EMOJI, p.OPT.SMILEY, p.OPT.ESCAPE_CHAR)\n",
    "\n",
    "# Limpiamos los tweets\n",
    "for i in tqdm(range(df.shape[0])):\n",
    "    # Limpiamos el tweet con tweet-preprocessor y lo pasamos a minúsculas\n",
    "    df.loc[i, 'clean_tweet'] = (p.clean(unidecode.unidecode(df.iloc[i]['tweet'].lower())))\n",
    "\n",
    "# Checkpoint\n",
    "df[['partido', 'timestamp', 'tweet', 'clean_tweet']].to_csv('tweets_clean.csv', sep='\\t', index=False)\n",
    "\n",
    "df[['partido', 'timestamp', 'tweet', 'clean_tweet']].sample(5)"
   ]
  },
  {
   "cell_type": "markdown",
   "id": "b69f5411",
   "metadata": {},
   "source": [
    "<hr>\n",
    "\n",
    "# 4.- Predicción de la toxicidad de los tweets\n",
    "\n",
    "\n",
    "* Vamos a importar el modelo de ***Newtral*** (basado en RoBERTa) que asigna a cada tweet una puntuación de toxicidad.\n",
    "\n",
    "\n",
    "* Este modelo asigna una puntuación de \"Toxic\" (LABEL_0) y \"Very Toxic\" (LABEL_1) a un tweet.\n",
    "\n",
    "\n",
    "* Los detalles de este modelo lo tenemos en: Los detalles de este modelo están en: https://huggingface.co/Newtral/xlm-r-finetuned-toxic-political-tweets-es"
   ]
  },
  {
   "cell_type": "code",
   "execution_count": null,
   "id": "3aeb7ce9",
   "metadata": {},
   "outputs": [
    {
     "name": "stderr",
     "output_type": "stream",
     "text": [
      " 29%|█████████████████████▏                                                   | 52719/181504 [50:16<1:46:55, 20.07it/s]"
     ]
    }
   ],
   "source": [
    "from transformers import pipeline\n",
    "\n",
    "# Importamos el modelo\n",
    "toxicity_scorer = pipeline(\"text-classification\",\n",
    "                           model=\"Newtral/xlm-r-finetuned-toxic-political-tweets-es\")\n",
    "\n",
    "# Obtenemos los scores de cada uno de los tweets\n",
    "for i in tqdm(range(df.shape[0])):\n",
    "    score = toxicity_scorer(df.iloc[i]['clean_tweet'], return_all_scores=True)\n",
    "    df.loc[i, 'toxic'] = score[0][0]['score']\n",
    "    df.loc[i, 'very_toxic'] = score[0][1]['score']\n",
    "    df.loc[i, 'toxic_score'] = score[0][0]['score'] + score[0][1]['score']\n",
    "\n",
    "# Checkpoint\n",
    "(df[['partido', 'timestamp', 'tweet', 'clean_tweet', 'toxic', 'very_toxic', 'toxic_score']]\n",
    " .to_csv('tweets_toxicity_scored.csv', sep='\\t', index=False))"
   ]
  },
  {
   "cell_type": "markdown",
   "id": "013ba20a",
   "metadata": {},
   "source": [
    "<hr>\n",
    "\n",
    "# 5.- Ranking de Tweets más Tóxicos\n",
    "\n",
    "\n",
    "* Hemos creado en el dataframe donde guardamos los tweets y los scores proporcionados por el modelo, una nueva columna llamada \"***toxic_score***\" que será la suma de los dos scores proporcionados por el modelo (\"Toxic\" y \"Very Toxic\").\n",
    "\n",
    "\n",
    "* Con este nuevo score combinado, realizaremos los análisis de toxicidad."
   ]
  },
  {
   "cell_type": "code",
   "execution_count": 4,
   "id": "cde2aed4",
   "metadata": {
    "scrolled": false
   },
   "outputs": [
    {
     "name": "stdout",
     "output_type": "stream",
     "text": [
      "1º Posición:\n",
      "\tPartido Político: CIUDADANOS\n",
      "\tFecha: 20-06-2019\n",
      "\tScore: 1.991903\n",
      "\tTweet: Que es como decir que el castellano es la lengua de las putas y los camellos. Una nueva ocurrencia de la fanática que quemó la Constitución en TV3.Estáis rociando Cataluña de gasolina desde hace décadas, Empar. Un día saltará una chispa. https://t.co/uKuIjpYkka\n",
      "\n",
      "----------------------------------------------------------------------------\n",
      "2º Posición:\n",
      "\tPartido Político: VOX\n",
      "\tFecha: 03-12-2019\n",
      "\tScore: 1.991774\n",
      "\tTweet: Lamentable es que dejárais a los separatistas dar un golpe de Estado y sentárais las bases para el segundo. Tuit ridiculo. ¿Pero no eramos fachas irredentos? Sois trileros y desleales, y la gente lo sabe.¿Todo para azuzar el miedo? Si tenéis miedo, apartaos, ¡que vamos! https://t.co/SBDNmZ53Ce\n",
      "\n",
      "----------------------------------------------------------------------------\n",
      "3º Posición:\n",
      "\tPartido Político: CIUDADANOS\n",
      "\tFecha: 03-05-2021\n",
      "\tScore: 1.991752\n",
      "\tTweet: Para ser un auténtico oprimido tienes que tener la nómina de un conseller y una corte de aduladores colocados en todo tipo de chiringuitos.Por dinero y poder, Junts y ERC son capaces de gobernar juntos sin ni tan siquiera dirigirse la palabra.https://t.co/8D1zAPyWil\n",
      "\n",
      "----------------------------------------------------------------------------\n",
      "4º Posición:\n",
      "\tPartido Político: CIUDADANOS\n",
      "\tFecha: 04-01-2020\n",
      "\tScore: 1.991741\n",
      "\tTweet: A ver si se entera  @NestorRego que no puede hablar en esa tribuna en nombre de todos los gallegos. Los gallegos somos gente de bien, y no Kamikaces desnortados que se vendan por 1 €.  Lástima la ingenuidad de este @obloque creyéndose la palabra del infame de Sánchez y su pacto https://t.co/iVcstiLyOq\n",
      "\n",
      "----------------------------------------------------------------------------\n",
      "5º Posición:\n",
      "\tPartido Político: CIUDADANOS\n",
      "\tFecha: 24-11-2021\n",
      "\tScore: 1.991736\n",
      "\tTweet: A Sánchez ya no le queda más libertad por perder ante los separatistas:❌Sacar a la @policia de Via Laietana❌Ley infame para las universidades❌Adoctrinamiento📡@InesArrimadas \"Regalan este pack de la vergüenza al nacionalismo para mantenerse en Moncloa\" #ActualidadCs https://t.co/ZP0VgZ6hiz\n",
      "\n",
      "----------------------------------------------------------------------------\n",
      "6º Posición:\n",
      "\tPartido Político: VOX\n",
      "\tFecha: 17-03-2021\n",
      "\tScore: 1.991732\n",
      "\tTweet: A los que hoy se rasgan las vestiduras hablando del suicido, errejonistas, podemitas y demás patulea pogre: muchos de los que se suicidan son hombres traumatizados por las denuncias falsas de violencia \"de género\" y por no poder ver a sus hijos.Y os da igual. Hipócritas.\n",
      "\n",
      "----------------------------------------------------------------------------\n",
      "7º Posición:\n",
      "\tPartido Político: VOX\n",
      "\tFecha: 07-02-2022\n",
      "\tScore: 1.991727\n",
      "\tTweet: Zapatero anda ya por el mundo con una escolta como la de un Chapo Guzmán. Como los grandes narcos y asesinos que dirigen allí los negocios del “progresismo”. Nada sería más justo que dejar a Zapatero sin escolta en cualquier rincón del país que más sufre su infamia infinita. https://t.co/4sh1dP7FzF\n",
      "\n",
      "----------------------------------------------------------------------------\n",
      "8º Posición:\n",
      "\tPartido Político: VOX\n",
      "\tFecha: 06-09-2021\n",
      "\tScore: 1.991721\n",
      "\tTweet: @Espectadorescep @Frexer3000 @_JJOAKINN_ @beerman_garcia @CapitanBitcoin Eso os pasa a los progreanalfabetos, que tiráis de wikipedia y no solo os creéis todas sus trampas sectarias y manipulaciones sino que no tenéis los elementos básicos para entender las oraciones enteras.\n",
      "\n",
      "----------------------------------------------------------------------------\n",
      "9º Posición:\n",
      "\tPartido Político: VOX\n",
      "\tFecha: 13-05-2021\n",
      "\tScore: 1.991710\n",
      "\tTweet: Contra la libertad que es libertinaje, Casado quiere medios para acabar con estas malditas manías de los españoles de moverse por España sin permiso suyo. https://t.co/W4moymYHU0\n",
      "\n",
      "----------------------------------------------------------------------------\n",
      "10º Posición:\n",
      "\tPartido Político: PP\n",
      "\tFecha: 11-08-2021\n",
      "\tScore: 1.991700\n",
      "\tTweet: Podemos amenaza con salir a la calle por la luz: \"Daremos la batalla en todos los espacios\" “En todos los espacios” excepto en el gobierno al que pertenecen. Son gobierno y oposición. Unos inútiles charlatanes.  https://t.co/v5bY8kumf0\n",
      "\n",
      "----------------------------------------------------------------------------\n"
     ]
    }
   ],
   "source": [
    "from datetime import datetime\n",
    "\n",
    "# Ordenamos los tweets por toxicidad de mayor a menor\n",
    "# df_rank = df.sort_values('toxic_score', ascending=False).reset_index()\n",
    "df_rank = df.sort_values('toxic_score', ascending=False).reset_index()\n",
    "\n",
    "# Mostramos los 10 tweets más tóxicos según el modelo\n",
    "TOP = 10\n",
    "for i in range(TOP):\n",
    "    print('{}º Posición:'.format(i+1))\n",
    "    print('\\tPartido Político: {}'.format(df_rank.iloc[i]['partido'].upper()))\n",
    "    print('\\tFecha: {}'.format(datetime.fromtimestamp(int(df_rank.iloc[i]['timestamp'])).strftime('%d-%m-%Y')))\n",
    "    print('\\tScore: {:.6f}'.format(df_rank.iloc[i]['toxic_score']))\n",
    "    print('\\tTweet: {}\\n'.format(df_rank.iloc[i]['tweet']))\n",
    "    print('----------------------------------------------------------------------------')"
   ]
  },
  {
   "cell_type": "markdown",
   "id": "313eae27",
   "metadata": {},
   "source": [
    "<hr>\n",
    "\n",
    "# 6.- Toxidad media por partido político"
   ]
  },
  {
   "cell_type": "code",
   "execution_count": 5,
   "id": "46b6b002",
   "metadata": {},
   "outputs": [
    {
     "data": {
      "text/html": [
       "<div>\n",
       "<style scoped>\n",
       "    .dataframe tbody tr th:only-of-type {\n",
       "        vertical-align: middle;\n",
       "    }\n",
       "\n",
       "    .dataframe tbody tr th {\n",
       "        vertical-align: top;\n",
       "    }\n",
       "\n",
       "    .dataframe thead th {\n",
       "        text-align: right;\n",
       "    }\n",
       "</style>\n",
       "<table border=\"1\" class=\"dataframe\">\n",
       "  <thead>\n",
       "    <tr style=\"text-align: right;\">\n",
       "      <th></th>\n",
       "      <th>partido</th>\n",
       "      <th>toxic_score</th>\n",
       "    </tr>\n",
       "  </thead>\n",
       "  <tbody>\n",
       "    <tr>\n",
       "      <th>4</th>\n",
       "      <td>vox</td>\n",
       "      <td>0.656955</td>\n",
       "    </tr>\n",
       "    <tr>\n",
       "      <th>0</th>\n",
       "      <td>ciudadanos</td>\n",
       "      <td>0.423100</td>\n",
       "    </tr>\n",
       "    <tr>\n",
       "      <th>2</th>\n",
       "      <td>pp</td>\n",
       "      <td>0.368425</td>\n",
       "    </tr>\n",
       "    <tr>\n",
       "      <th>1</th>\n",
       "      <td>podemos</td>\n",
       "      <td>0.321112</td>\n",
       "    </tr>\n",
       "    <tr>\n",
       "      <th>3</th>\n",
       "      <td>psoe</td>\n",
       "      <td>0.202137</td>\n",
       "    </tr>\n",
       "  </tbody>\n",
       "</table>\n",
       "</div>"
      ],
      "text/plain": [
       "      partido  toxic_score\n",
       "4         vox     0.656955\n",
       "0  ciudadanos     0.423100\n",
       "2          pp     0.368425\n",
       "1     podemos     0.321112\n",
       "3        psoe     0.202137"
      ]
     },
     "execution_count": 5,
     "metadata": {},
     "output_type": "execute_result"
    }
   ],
   "source": [
    "df_agg = (df_rank\n",
    "          .groupby('partido')['toxic_score']\n",
    "          .mean()\n",
    "          .reset_index()\n",
    "          .sort_values('toxic_score', ascending=False))\n",
    "df_agg"
   ]
  },
  {
   "cell_type": "code",
   "execution_count": 6,
   "id": "303e2e3a",
   "metadata": {},
   "outputs": [
    {
     "data": {
      "image/png": "[encoded data removed]",
      "text/plain": [
       "<Figure size 864x432 with 1 Axes>"
      ]
     },
     "metadata": {
      "needs_background": "light"
     },
     "output_type": "display_data"
    }
   ],
   "source": [
    "import matplotlib.pyplot as plt\n",
    "import seaborn as sns\n",
    "\n",
    "fig, ax = plt.subplots(figsize=(12, 6))\n",
    "sns.barplot(x=\"partido\", \n",
    "            y=\"toxic_score\", \n",
    "            data=df_rank, \n",
    "            order=df_agg['partido'], \n",
    "            palette=colors)\n",
    "ax.set_title('Toxicidad Media de lo Tweets por Partido Político')\n",
    "ax.set_ylabel('Score Toxicidad (Media)')\n",
    "ax.set_xlabel('Partido Político')\n",
    "ax.grid()"
   ]
  },
  {
   "cell_type": "markdown",
   "id": "cc1a3eee",
   "metadata": {},
   "source": [
    "* Distribución de la toxicidad por partido político."
   ]
  },
  {
   "cell_type": "code",
   "execution_count": 9,
   "id": "92f76dbe",
   "metadata": {},
   "outputs": [
    {
     "data": {
      "text/plain": [
       "Text(0.5, 0, 'Partido Político')"
      ]
     },
     "execution_count": 9,
     "metadata": {},
     "output_type": "execute_result"
    },
    {
     "data": {
      "image/png": "[encoded data removed]",
      "text/plain": [
       "<Figure size 864x432 with 1 Axes>"
      ]
     },
     "metadata": {
      "needs_background": "light"
     },
     "output_type": "display_data"
    }
   ],
   "source": [
    "fig, ax = plt.subplots(figsize=(12, 6))\n",
    "sns.boxplot(x=\"partido\", \n",
    "               y=\"toxic_score\", \n",
    "               data=df_rank, \n",
    "               order=df_agg['partido'],\n",
    "               palette=colors)\n",
    "\n",
    "ax.set_title('Distribución Toxicidad de lo Tweets por Partido Político')\n",
    "ax.set_ylabel('Score Toxicidad (Media)')\n",
    "ax.set_xlabel('Partido Político')"
   ]
  }
 ],
 "metadata": {
  "kernelspec": {
   "display_name": "python37_NLP",
   "language": "python",
   "name": "python37_nlp"
  },
  "language_info": {
   "codemirror_mode": {
    "name": "ipython",
    "version": 3
   },
   "file_extension": ".py",
   "mimetype": "text/x-python",
   "name": "python",
   "nbconvert_exporter": "python",
   "pygments_lexer": "ipython3",
   "version": "3.7.11"
  }
 },
 "nbformat": 4,
 "nbformat_minor": 5
}
